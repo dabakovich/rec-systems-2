{
 "cells": [
  {
   "cell_type": "markdown",
   "id": "089042a5-f177-4e1e-911e-8dc8d0b90d46",
   "metadata": {},
   "source": [
    "Домашнє завдання \n",
    "==\n",
    "\n",
    "В цьому завданні потрібно побудувати рекомендатор, використовуючи колаборативну фільтрацію. На вибір можна обрати наступні алгоритми із бібліотеки surprise\n",
    "* KNNWithMeans - алгоритм, що враховує середні значення\n",
    "* KNNWithZScore - алгоритм, що використовує нормалізацію\n",
    "* SVD\n",
    "\n",
    "Датасет - Book crossing. \n",
    "\n",
    "Фінальна функція приймає на вхід користувача (User-Id) та видає йому 10 рекомендацій книг. \n",
    "\n",
    "За бажанням можна також приділити більше уваги очищенню даних\n",
    "* Прибрати дублікати\n",
    "* Видалити схожі, але різні назви однієї і тієї ж книги"
   ]
  },
  {
   "cell_type": "code",
   "execution_count": null,
   "id": "2ffac1cd-0b08-4f09-b02e-e98ad1da65d3",
   "metadata": {},
   "outputs": [],
   "source": []
  }
 ],
 "metadata": {
  "kernelspec": {
   "display_name": "recommenders-kernel",
   "language": "python",
   "name": "recommenders-kernel"
  },
  "language_info": {
   "codemirror_mode": {
    "name": "ipython",
    "version": 3
   },
   "file_extension": ".py",
   "mimetype": "text/x-python",
   "name": "python",
   "nbconvert_exporter": "python",
   "pygments_lexer": "ipython3",
   "version": "3.11.4"
  }
 },
 "nbformat": 4,
 "nbformat_minor": 5
}
