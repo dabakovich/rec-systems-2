{
 "cells": [
  {
   "cell_type": "markdown",
   "id": "53c4e20e-ab79-46ee-96b6-7283d2018bf2",
   "metadata": {},
   "source": [
    "Дані\n",
    "--\n",
    "* Books.csv - вся інформація про книги\n",
    "* Users.csv - інформація про користувачів\n",
    "* Ratings.csv - інформація про те, які рейтинги користувачі дали книгам\n",
    "\n",
    "Імпортуємо бібліотеки\n",
    "--"
   ]
  },
  {
   "cell_type": "code",
   "execution_count": 1,
   "id": "70181b64-1afa-4ae8-b27a-781ccd565f95",
   "metadata": {},
   "outputs": [],
   "source": [
    "import pandas as pd\n",
    "from plotly.graph_objects import *\n",
    "import numpy as np\n",
    "\n",
    "from surprise import Dataset\n",
    "from surprise import Reader\n",
    "from surprise import KNNBasic, KNNWithMeans\n",
    "from surprise.model_selection import cross_validate, train_test_split, GridSearchCV"
   ]
  },
  {
   "cell_type": "markdown",
   "id": "0a005f91-cdad-4dc8-88a3-0eae21fc5f08",
   "metadata": {},
   "source": [
    "Зчитуємо дані\n",
    "===\n"
   ]
  },
  {
   "cell_type": "code",
   "execution_count": 2,
   "id": "de998014-3461-4fe4-9584-26237bdcbc62",
   "metadata": {},
   "outputs": [],
   "source": [
    "df = pd.read_csv('datasets/book-crossing/users-ratings.csv')"
   ]
  },
  {
   "cell_type": "code",
   "execution_count": 3,
   "id": "dc0c7481-bd24-43e6-895a-fae0857bf229",
   "metadata": {},
   "outputs": [
    {
     "data": {
      "text/html": [
       "<div>\n",
       "<style scoped>\n",
       "    .dataframe tbody tr th:only-of-type {\n",
       "        vertical-align: middle;\n",
       "    }\n",
       "\n",
       "    .dataframe tbody tr th {\n",
       "        vertical-align: top;\n",
       "    }\n",
       "\n",
       "    .dataframe thead th {\n",
       "        text-align: right;\n",
       "    }\n",
       "</style>\n",
       "<table border=\"1\" class=\"dataframe\">\n",
       "  <thead>\n",
       "    <tr style=\"text-align: right;\">\n",
       "      <th></th>\n",
       "      <th>User-ID</th>\n",
       "      <th>Age</th>\n",
       "      <th>ISBN</th>\n",
       "      <th>Rating</th>\n",
       "    </tr>\n",
       "  </thead>\n",
       "  <tbody>\n",
       "    <tr>\n",
       "      <th>0</th>\n",
       "      <td>243</td>\n",
       "      <td>NaN</td>\n",
       "      <td>0060915544</td>\n",
       "      <td>10</td>\n",
       "    </tr>\n",
       "    <tr>\n",
       "      <th>1</th>\n",
       "      <td>243</td>\n",
       "      <td>NaN</td>\n",
       "      <td>0060977493</td>\n",
       "      <td>7</td>\n",
       "    </tr>\n",
       "    <tr>\n",
       "      <th>2</th>\n",
       "      <td>243</td>\n",
       "      <td>NaN</td>\n",
       "      <td>0156006529</td>\n",
       "      <td>0</td>\n",
       "    </tr>\n",
       "    <tr>\n",
       "      <th>3</th>\n",
       "      <td>243</td>\n",
       "      <td>NaN</td>\n",
       "      <td>0316096199</td>\n",
       "      <td>0</td>\n",
       "    </tr>\n",
       "    <tr>\n",
       "      <th>4</th>\n",
       "      <td>243</td>\n",
       "      <td>NaN</td>\n",
       "      <td>0316601950</td>\n",
       "      <td>9</td>\n",
       "    </tr>\n",
       "  </tbody>\n",
       "</table>\n",
       "</div>"
      ],
      "text/plain": [
       "   User-ID  Age        ISBN  Rating\n",
       "0      243  NaN  0060915544      10\n",
       "1      243  NaN  0060977493       7\n",
       "2      243  NaN  0156006529       0\n",
       "3      243  NaN  0316096199       0\n",
       "4      243  NaN  0316601950       9"
      ]
     },
     "execution_count": 3,
     "metadata": {},
     "output_type": "execute_result"
    }
   ],
   "source": [
    "df.head()\n"
   ]
  },
  {
   "cell_type": "code",
   "execution_count": 4,
   "id": "083fb7a8-1266-4698-b8d0-fd56a56075ec",
   "metadata": {},
   "outputs": [
    {
     "data": {
      "text/plain": [
       "User-ID    0.000000\n",
       "Age        0.233315\n",
       "ISBN       0.000000\n",
       "Rating     0.000000\n",
       "dtype: float64"
      ]
     },
     "execution_count": 4,
     "metadata": {},
     "output_type": "execute_result"
    }
   ],
   "source": [
    "df.isnull().sum()/len(df)"
   ]
  },
  {
   "cell_type": "markdown",
   "id": "90736662-111f-4293-aff8-a95d3a36db6a",
   "metadata": {},
   "source": [
    "Протестуємо K-Nearest Neighbours\n",
    "===\n",
    "\n",
    "Почнемо з найпростішого алгоритму KNNBasic"
   ]
  },
  {
   "cell_type": "code",
   "execution_count": 5,
   "id": "b79f1e00-283d-4f5f-9808-7e5702644346",
   "metadata": {},
   "outputs": [],
   "source": [
    "reader = Reader(rating_scale=(1,10))"
   ]
  },
  {
   "cell_type": "code",
   "execution_count": 6,
   "id": "292cd5a0-7a7f-47ab-9b7b-1291925ca80b",
   "metadata": {},
   "outputs": [],
   "source": [
    "df = df[df['Rating']!=0]"
   ]
  },
  {
   "cell_type": "code",
   "execution_count": 7,
   "id": "7bf3c7fa-0e65-4da4-b43f-2fa85f0b681c",
   "metadata": {},
   "outputs": [],
   "source": [
    "data = Dataset.load_from_df(df[['User-ID','ISBN', 'Rating']],\n",
    "                           reader)"
   ]
  },
  {
   "cell_type": "code",
   "execution_count": 8,
   "id": "4234d173-9c17-4883-8a9c-163240b18df4",
   "metadata": {},
   "outputs": [],
   "source": [
    "sim_options = {\"name\": \"cosine\",\n",
    "               \"user_based\": False}\n",
    "algo = KNNBasic(sim_options=sim_options)"
   ]
  },
  {
   "cell_type": "code",
   "execution_count": 9,
   "id": "3668b24a-5c16-4197-94aa-9c83a9778c61",
   "metadata": {},
   "outputs": [],
   "source": [
    "trainingSet = data.build_full_trainset()"
   ]
  },
  {
   "cell_type": "code",
   "execution_count": 10,
   "id": "97103be3-6c2a-4c4c-a351-76ece211dd95",
   "metadata": {},
   "outputs": [
    {
     "name": "stdout",
     "output_type": "stream",
     "text": [
      "Computing the cosine similarity matrix...\n",
      "Done computing similarity matrix.\n"
     ]
    },
    {
     "data": {
      "text/plain": [
       "<surprise.prediction_algorithms.knns.KNNBasic at 0x11ba61350>"
      ]
     },
     "execution_count": 10,
     "metadata": {},
     "output_type": "execute_result"
    }
   ],
   "source": [
    "algo.fit(trainingSet)"
   ]
  },
  {
   "cell_type": "code",
   "execution_count": 11,
   "id": "e9c8a399-11ae-47a2-b9ef-d21c81565fdb",
   "metadata": {},
   "outputs": [],
   "source": [
    "prediction = algo.predict(243,'0060915544')"
   ]
  },
  {
   "cell_type": "code",
   "execution_count": 12,
   "id": "4b476390-483a-4666-b440-d29fa5ca4e23",
   "metadata": {},
   "outputs": [
    {
     "data": {
      "text/plain": [
       "7.794547301085934"
      ]
     },
     "execution_count": 12,
     "metadata": {},
     "output_type": "execute_result"
    }
   ],
   "source": [
    "prediction.est"
   ]
  },
  {
   "cell_type": "code",
   "execution_count": 13,
   "id": "8812e149-67bd-4856-9ccc-a682db5369fa",
   "metadata": {},
   "outputs": [
    {
     "data": {
      "text/plain": [
       "Prediction(uid=243, iid='0060915544', r_ui=None, est=7.794547301085934, details={'actual_k': 14, 'was_impossible': False})"
      ]
     },
     "execution_count": 13,
     "metadata": {},
     "output_type": "execute_result"
    }
   ],
   "source": [
    "prediction"
   ]
  },
  {
   "cell_type": "code",
   "execution_count": 14,
   "id": "605f5a93-0f17-424c-a478-705de3947b4d",
   "metadata": {},
   "outputs": [],
   "source": [
    "train, test = train_test_split(data, test_size=.2)"
   ]
  },
  {
   "cell_type": "code",
   "execution_count": 15,
   "id": "1a8d9aae-5ce9-48f3-a796-3deb228824d8",
   "metadata": {},
   "outputs": [
    {
     "name": "stdout",
     "output_type": "stream",
     "text": [
      "Computing the cosine similarity matrix...\n",
      "Done computing similarity matrix.\n"
     ]
    },
    {
     "data": {
      "text/plain": [
       "<surprise.prediction_algorithms.knns.KNNBasic at 0x11ba61350>"
      ]
     },
     "execution_count": 15,
     "metadata": {},
     "output_type": "execute_result"
    }
   ],
   "source": [
    "algo.fit(train)"
   ]
  },
  {
   "cell_type": "code",
   "execution_count": 16,
   "id": "ebd5e58e-ea36-4d61-ac71-42c03628b01d",
   "metadata": {},
   "outputs": [],
   "source": [
    "predictions = algo.test(test)"
   ]
  },
  {
   "cell_type": "code",
   "execution_count": null,
   "id": "0fd20094-b35a-496c-a7ab-b3a4aee972b8",
   "metadata": {},
   "outputs": [],
   "source": []
  },
  {
   "cell_type": "code",
   "execution_count": 17,
   "id": "1b0b1ceb-4ad6-4244-9070-283ceca9385c",
   "metadata": {},
   "outputs": [
    {
     "name": "stdout",
     "output_type": "stream",
     "text": [
      "Hit Rate: 0.734\n"
     ]
    }
   ],
   "source": [
    "like_threshold = 7\n",
    "\n",
    "\n",
    "hits = [1 for prediction in predictions if prediction.est >= like_threshold and prediction.r_ui >= like_threshold]\n",
    "hit_rate = sum(hits) / len(predictions) if predictions else 0\n",
    "\n",
    "print(f\"Hit Rate: {hit_rate:.3f}\")"
   ]
  },
  {
   "cell_type": "code",
   "execution_count": 18,
   "id": "c41d495c-e9ee-41fb-9ddc-050b900e0d63",
   "metadata": {},
   "outputs": [
    {
     "name": "stdout",
     "output_type": "stream",
     "text": [
      "Computing the cosine similarity matrix...\n",
      "Done computing similarity matrix.\n",
      "Computing the cosine similarity matrix...\n",
      "Done computing similarity matrix.\n",
      "Computing the cosine similarity matrix...\n",
      "Done computing similarity matrix.\n",
      "Evaluating RMSE of algorithm KNNBasic on 3 split(s).\n",
      "\n",
      "                  Fold 1  Fold 2  Fold 3  Mean    Std     \n",
      "RMSE (testset)    1.7134  1.7043  1.7104  1.7094  0.0038  \n",
      "Fit time          0.09    0.09    0.10    0.09    0.01    \n",
      "Test time         0.37    0.31    0.37    0.35    0.03    \n"
     ]
    },
    {
     "data": {
      "text/plain": [
       "{'test_rmse': array([1.71342056, 1.70428535, 1.71035789]),\n",
       " 'fit_time': (0.08925986289978027, 0.08563518524169922, 0.10153079032897949),\n",
       " 'test_time': (0.3707890510559082, 0.3090188503265381, 0.3729400634765625)}"
      ]
     },
     "execution_count": 18,
     "metadata": {},
     "output_type": "execute_result"
    }
   ],
   "source": [
    "cross_validate(algo, data, measures=['RMSE'], cv=3, verbose=True)"
   ]
  },
  {
   "cell_type": "code",
   "execution_count": 19,
   "id": "ae0d08de-7cc4-4910-8ee9-a40040930759",
   "metadata": {
    "scrolled": true
   },
   "outputs": [
    {
     "name": "stdout",
     "output_type": "stream",
     "text": [
      "Computing the msd similarity matrix...\n",
      "Done computing similarity matrix.\n",
      "Computing the msd similarity matrix...\n",
      "Done computing similarity matrix.\n",
      "Computing the msd similarity matrix...\n",
      "Done computing similarity matrix.\n",
      "Computing the msd similarity matrix...\n",
      "Done computing similarity matrix.\n",
      "Computing the msd similarity matrix...\n",
      "Done computing similarity matrix.\n",
      "Computing the msd similarity matrix...\n",
      "Done computing similarity matrix.\n",
      "Computing the msd similarity matrix...\n",
      "Done computing similarity matrix.\n",
      "Computing the msd similarity matrix...\n",
      "Done computing similarity matrix.\n",
      "Computing the msd similarity matrix...\n",
      "Done computing similarity matrix.\n",
      "Computing the msd similarity matrix...\n",
      "Done computing similarity matrix.\n",
      "Computing the msd similarity matrix...\n",
      "Done computing similarity matrix.\n",
      "Computing the msd similarity matrix...\n",
      "Done computing similarity matrix.\n",
      "Computing the msd similarity matrix...\n",
      "Done computing similarity matrix.\n",
      "Computing the msd similarity matrix...\n",
      "Done computing similarity matrix.\n",
      "Computing the msd similarity matrix...\n",
      "Done computing similarity matrix.\n",
      "Computing the msd similarity matrix...\n",
      "Done computing similarity matrix.\n",
      "Computing the msd similarity matrix...\n",
      "Done computing similarity matrix.\n",
      "Computing the msd similarity matrix...\n",
      "Done computing similarity matrix.\n",
      "Computing the cosine similarity matrix...\n",
      "Done computing similarity matrix.\n",
      "Computing the cosine similarity matrix...\n",
      "Done computing similarity matrix.\n",
      "Computing the cosine similarity matrix...\n",
      "Done computing similarity matrix.\n",
      "Computing the cosine similarity matrix...\n",
      "Done computing similarity matrix.\n",
      "Computing the cosine similarity matrix...\n",
      "Done computing similarity matrix.\n",
      "Computing the cosine similarity matrix...\n",
      "Done computing similarity matrix.\n",
      "Computing the cosine similarity matrix...\n",
      "Done computing similarity matrix.\n",
      "Computing the cosine similarity matrix...\n",
      "Done computing similarity matrix.\n",
      "Computing the cosine similarity matrix...\n",
      "Done computing similarity matrix.\n",
      "Computing the cosine similarity matrix...\n",
      "Done computing similarity matrix.\n",
      "Computing the cosine similarity matrix...\n",
      "Done computing similarity matrix.\n",
      "Computing the cosine similarity matrix...\n",
      "Done computing similarity matrix.\n",
      "Computing the cosine similarity matrix...\n",
      "Done computing similarity matrix.\n",
      "Computing the cosine similarity matrix...\n",
      "Done computing similarity matrix.\n",
      "Computing the cosine similarity matrix...\n",
      "Done computing similarity matrix.\n",
      "Computing the cosine similarity matrix...\n",
      "Done computing similarity matrix.\n",
      "Computing the cosine similarity matrix...\n",
      "Done computing similarity matrix.\n",
      "Computing the cosine similarity matrix...\n",
      "Done computing similarity matrix.\n"
     ]
    }
   ],
   "source": [
    "sim_options = {\n",
    "    \"name\": [\"msd\", \"cosine\"],\n",
    "    \"min_support\": [3, 4, 5],\n",
    "    \"user_based\": [False, True],\n",
    "}\n",
    "\n",
    "param_grid = {\"sim_options\": sim_options}\n",
    "\n",
    "gs = GridSearchCV(KNNWithMeans, param_grid, measures=[\"rmse\", \"mae\"], cv=3)\n",
    "gs.fit(data)"
   ]
  },
  {
   "cell_type": "code",
   "execution_count": 20,
   "id": "72d5bcef-5a99-449a-b372-83c3c0b8cc8e",
   "metadata": {},
   "outputs": [
    {
     "name": "stdout",
     "output_type": "stream",
     "text": [
      "1.7407050921795904\n",
      "{'sim_options': {'name': 'msd', 'min_support': 5, 'user_based': False}}\n"
     ]
    }
   ],
   "source": [
    "print(gs.best_score[\"rmse\"])\n",
    "print(gs.best_params[\"rmse\"])"
   ]
  },
  {
   "cell_type": "code",
   "execution_count": 24,
   "id": "803325ee-bf9c-44c2-9b55-912ed87a3772",
   "metadata": {},
   "outputs": [
    {
     "data": {
      "text/plain": [
       "<bound method AlgoBase.predict of <surprise.prediction_algorithms.knns.KNNWithMeans object at 0x11dbd7110>>"
      ]
     },
     "execution_count": 24,
     "metadata": {},
     "output_type": "execute_result"
    }
   ],
   "source": [
    "gs.best_estimator['rmse'].predict"
   ]
  },
  {
   "cell_type": "code",
   "execution_count": null,
   "id": "09464d77-e430-47ed-b91f-acc6db5c99bb",
   "metadata": {},
   "outputs": [],
   "source": []
  }
 ],
 "metadata": {
  "kernelspec": {
   "display_name": "recommenders-kernel",
   "language": "python",
   "name": "recommenders-kernel"
  },
  "language_info": {
   "codemirror_mode": {
    "name": "ipython",
    "version": 3
   },
   "file_extension": ".py",
   "mimetype": "text/x-python",
   "name": "python",
   "nbconvert_exporter": "python",
   "pygments_lexer": "ipython3",
   "version": "3.11.4"
  }
 },
 "nbformat": 4,
 "nbformat_minor": 5
}
