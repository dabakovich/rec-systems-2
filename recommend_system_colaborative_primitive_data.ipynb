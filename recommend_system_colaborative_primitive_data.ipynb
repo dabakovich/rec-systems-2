{
 "cells": [
  {
   "cell_type": "markdown",
   "metadata": {},
   "source": [
    "## Collaborative recommend system on primitive data\n",
    "### Playground for intensive, day 2, part 1"
   ]
  },
  {
   "cell_type": "code",
   "execution_count": 59,
   "metadata": {},
   "outputs": [],
   "source": [
    "from sklearn.preprocessing import StandardScaler\n",
    "from sklearn.metrics.pairwise import cosine_similarity\n",
    "import pandas as pd"
   ]
  },
  {
   "cell_type": "code",
   "execution_count": 60,
   "metadata": {},
   "outputs": [
    {
     "data": {
      "text/html": [
       "<div>\n",
       "<style scoped>\n",
       "    .dataframe tbody tr th:only-of-type {\n",
       "        vertical-align: middle;\n",
       "    }\n",
       "\n",
       "    .dataframe tbody tr th {\n",
       "        vertical-align: top;\n",
       "    }\n",
       "\n",
       "    .dataframe thead th {\n",
       "        text-align: right;\n",
       "    }\n",
       "</style>\n",
       "<table border=\"1\" class=\"dataframe\">\n",
       "  <thead>\n",
       "    <tr style=\"text-align: right;\">\n",
       "      <th></th>\n",
       "      <th>item</th>\n",
       "      <th>user</th>\n",
       "      <th>rating</th>\n",
       "    </tr>\n",
       "  </thead>\n",
       "  <tbody>\n",
       "    <tr>\n",
       "      <th>0</th>\n",
       "      <td>i1</td>\n",
       "      <td>u1</td>\n",
       "      <td>5</td>\n",
       "    </tr>\n",
       "    <tr>\n",
       "      <th>1</th>\n",
       "      <td>i3</td>\n",
       "      <td>u1</td>\n",
       "      <td>4</td>\n",
       "    </tr>\n",
       "    <tr>\n",
       "      <th>2</th>\n",
       "      <td>i4</td>\n",
       "      <td>u1</td>\n",
       "      <td>1</td>\n",
       "    </tr>\n",
       "    <tr>\n",
       "      <th>3</th>\n",
       "      <td>i2</td>\n",
       "      <td>u2</td>\n",
       "      <td>3</td>\n",
       "    </tr>\n",
       "    <tr>\n",
       "      <th>4</th>\n",
       "      <td>i4</td>\n",
       "      <td>u2</td>\n",
       "      <td>3</td>\n",
       "    </tr>\n",
       "    <tr>\n",
       "      <th>5</th>\n",
       "      <td>i2</td>\n",
       "      <td>u3</td>\n",
       "      <td>2</td>\n",
       "    </tr>\n",
       "    <tr>\n",
       "      <th>6</th>\n",
       "      <td>i3</td>\n",
       "      <td>u3</td>\n",
       "      <td>4</td>\n",
       "    </tr>\n",
       "    <tr>\n",
       "      <th>7</th>\n",
       "      <td>i4</td>\n",
       "      <td>u3</td>\n",
       "      <td>4</td>\n",
       "    </tr>\n",
       "    <tr>\n",
       "      <th>8</th>\n",
       "      <td>i5</td>\n",
       "      <td>u3</td>\n",
       "      <td>1</td>\n",
       "    </tr>\n",
       "    <tr>\n",
       "      <th>9</th>\n",
       "      <td>i1</td>\n",
       "      <td>u4</td>\n",
       "      <td>4</td>\n",
       "    </tr>\n",
       "    <tr>\n",
       "      <th>10</th>\n",
       "      <td>i2</td>\n",
       "      <td>u4</td>\n",
       "      <td>4</td>\n",
       "    </tr>\n",
       "    <tr>\n",
       "      <th>11</th>\n",
       "      <td>i3</td>\n",
       "      <td>u4</td>\n",
       "      <td>5</td>\n",
       "    </tr>\n",
       "    <tr>\n",
       "      <th>12</th>\n",
       "      <td>i1</td>\n",
       "      <td>u5</td>\n",
       "      <td>2</td>\n",
       "    </tr>\n",
       "    <tr>\n",
       "      <th>13</th>\n",
       "      <td>i2</td>\n",
       "      <td>u5</td>\n",
       "      <td>4</td>\n",
       "    </tr>\n",
       "    <tr>\n",
       "      <th>14</th>\n",
       "      <td>i4</td>\n",
       "      <td>u5</td>\n",
       "      <td>5</td>\n",
       "    </tr>\n",
       "    <tr>\n",
       "      <th>15</th>\n",
       "      <td>i5</td>\n",
       "      <td>u5</td>\n",
       "      <td>2</td>\n",
       "    </tr>\n",
       "  </tbody>\n",
       "</table>\n",
       "</div>"
      ],
      "text/plain": [
       "   item user  rating\n",
       "0    i1   u1       5\n",
       "1    i3   u1       4\n",
       "2    i4   u1       1\n",
       "3    i2   u2       3\n",
       "4    i4   u2       3\n",
       "5    i2   u3       2\n",
       "6    i3   u3       4\n",
       "7    i4   u3       4\n",
       "8    i5   u3       1\n",
       "9    i1   u4       4\n",
       "10   i2   u4       4\n",
       "11   i3   u4       5\n",
       "12   i1   u5       2\n",
       "13   i2   u5       4\n",
       "14   i4   u5       5\n",
       "15   i5   u5       2"
      ]
     },
     "execution_count": 60,
     "metadata": {},
     "output_type": "execute_result"
    }
   ],
   "source": [
    "ratings_dict = {\n",
    "    \"item\": [\"i1\", \"i3\", \"i4\", \"i2\", \"i4\", \"i2\", \"i3\", \"i4\", \"i5\", \"i1\", \"i2\", \"i3\", \"i1\", \"i2\", \"i4\", \"i5\"],\n",
    "    \"user\": [\"u1\", \"u1\", \"u1\", \"u2\", \"u2\", \"u3\", \"u3\", \"u3\", \"u3\", \"u4\", \"u4\", \"u4\", \"u5\", \"u5\", \"u5\", \"u5\"],\n",
    "    \"rating\": [5, 4, 1, 3, 3, 2, 4, 4, 1, 4, 4, 5, 2, 4, 5, 2],\n",
    "}\n",
    "\n",
    "user_df = pd.DataFrame(\n",
    "    {\"user\": [\"u1\", \"u2\", \"u3\", \"u4\", \"u5\"], \"age\": [20, 22, 30, 45, 40], \"gender\": [\"m\", \"f\", \"m\", \"f\", \"m\"]}\n",
    ")\n",
    "\n",
    "user_df[\"gender\"] = user_df[\"gender\"].map({\"m\": 0, \"f\": 1})\n",
    "\n",
    "\n",
    "df = pd.DataFrame(ratings_dict)\n",
    "df"
   ]
  },
  {
   "cell_type": "code",
   "execution_count": 61,
   "metadata": {},
   "outputs": [
    {
     "data": {
      "text/html": [
       "<div>\n",
       "<style scoped>\n",
       "    .dataframe tbody tr th:only-of-type {\n",
       "        vertical-align: middle;\n",
       "    }\n",
       "\n",
       "    .dataframe tbody tr th {\n",
       "        vertical-align: top;\n",
       "    }\n",
       "\n",
       "    .dataframe thead th {\n",
       "        text-align: right;\n",
       "    }\n",
       "</style>\n",
       "<table border=\"1\" class=\"dataframe\">\n",
       "  <thead>\n",
       "    <tr style=\"text-align: right;\">\n",
       "      <th>item</th>\n",
       "      <th>i1</th>\n",
       "      <th>i2</th>\n",
       "      <th>i3</th>\n",
       "      <th>i4</th>\n",
       "      <th>i5</th>\n",
       "    </tr>\n",
       "    <tr>\n",
       "      <th>user</th>\n",
       "      <th></th>\n",
       "      <th></th>\n",
       "      <th></th>\n",
       "      <th></th>\n",
       "      <th></th>\n",
       "    </tr>\n",
       "  </thead>\n",
       "  <tbody>\n",
       "    <tr>\n",
       "      <th>u1</th>\n",
       "      <td>5.0</td>\n",
       "      <td>NaN</td>\n",
       "      <td>4.0</td>\n",
       "      <td>1.0</td>\n",
       "      <td>NaN</td>\n",
       "    </tr>\n",
       "    <tr>\n",
       "      <th>u2</th>\n",
       "      <td>NaN</td>\n",
       "      <td>3.0</td>\n",
       "      <td>NaN</td>\n",
       "      <td>3.0</td>\n",
       "      <td>NaN</td>\n",
       "    </tr>\n",
       "    <tr>\n",
       "      <th>u3</th>\n",
       "      <td>NaN</td>\n",
       "      <td>2.0</td>\n",
       "      <td>4.0</td>\n",
       "      <td>4.0</td>\n",
       "      <td>1.0</td>\n",
       "    </tr>\n",
       "    <tr>\n",
       "      <th>u4</th>\n",
       "      <td>4.0</td>\n",
       "      <td>4.0</td>\n",
       "      <td>5.0</td>\n",
       "      <td>NaN</td>\n",
       "      <td>NaN</td>\n",
       "    </tr>\n",
       "    <tr>\n",
       "      <th>u5</th>\n",
       "      <td>2.0</td>\n",
       "      <td>4.0</td>\n",
       "      <td>NaN</td>\n",
       "      <td>5.0</td>\n",
       "      <td>2.0</td>\n",
       "    </tr>\n",
       "  </tbody>\n",
       "</table>\n",
       "</div>"
      ],
      "text/plain": [
       "item   i1   i2   i3   i4   i5\n",
       "user                         \n",
       "u1    5.0  NaN  4.0  1.0  NaN\n",
       "u2    NaN  3.0  NaN  3.0  NaN\n",
       "u3    NaN  2.0  4.0  4.0  1.0\n",
       "u4    4.0  4.0  5.0  NaN  NaN\n",
       "u5    2.0  4.0  NaN  5.0  2.0"
      ]
     },
     "execution_count": 61,
     "metadata": {},
     "output_type": "execute_result"
    }
   ],
   "source": [
    "df_pivot = df.pivot(index=\"user\", columns=\"item\", values=\"rating\")\n",
    "\n",
    "df_pivot"
   ]
  },
  {
   "cell_type": "code",
   "execution_count": 62,
   "metadata": {},
   "outputs": [
    {
     "data": {
      "text/plain": [
       "array([[-1.16447843],\n",
       "       [-0.96018397],\n",
       "       [-0.14300612],\n",
       "       [ 1.38920234],\n",
       "       [ 0.87846618]])"
      ]
     },
     "execution_count": 62,
     "metadata": {},
     "output_type": "execute_result"
    }
   ],
   "source": [
    "ages_normalized = StandardScaler().fit_transform(user_df[[\"age\"]])\n",
    "\n",
    "ages_normalized"
   ]
  },
  {
   "cell_type": "code",
   "execution_count": 63,
   "metadata": {},
   "outputs": [
    {
     "data": {
      "text/plain": [
       "array([[ 1.06904497,         nan, -0.70710678, -1.52127766,         nan],\n",
       "       [        nan, -0.30151134,         nan, -0.16903085,         nan],\n",
       "       [        nan, -1.50755672, -0.70710678,  0.50709255, -1.        ],\n",
       "       [ 0.26726124,  0.90453403,  1.41421356,         nan,         nan],\n",
       "       [-1.33630621,  0.90453403,         nan,  1.18321596,  1.        ]])"
      ]
     },
     "execution_count": 63,
     "metadata": {},
     "output_type": "execute_result"
    }
   ],
   "source": [
    "normalized_ratings = StandardScaler().fit_transform(df_pivot)\n",
    "\n",
    "normalized_ratings"
   ]
  },
  {
   "cell_type": "code",
   "execution_count": 64,
   "metadata": {},
   "outputs": [
    {
     "data": {
      "text/html": [
       "<div>\n",
       "<style scoped>\n",
       "    .dataframe tbody tr th:only-of-type {\n",
       "        vertical-align: middle;\n",
       "    }\n",
       "\n",
       "    .dataframe tbody tr th {\n",
       "        vertical-align: top;\n",
       "    }\n",
       "\n",
       "    .dataframe thead th {\n",
       "        text-align: right;\n",
       "    }\n",
       "</style>\n",
       "<table border=\"1\" class=\"dataframe\">\n",
       "  <thead>\n",
       "    <tr style=\"text-align: right;\">\n",
       "      <th>item</th>\n",
       "      <th>i1</th>\n",
       "      <th>i2</th>\n",
       "      <th>i3</th>\n",
       "      <th>i4</th>\n",
       "      <th>i5</th>\n",
       "    </tr>\n",
       "    <tr>\n",
       "      <th>user</th>\n",
       "      <th></th>\n",
       "      <th></th>\n",
       "      <th></th>\n",
       "      <th></th>\n",
       "      <th></th>\n",
       "    </tr>\n",
       "  </thead>\n",
       "  <tbody>\n",
       "    <tr>\n",
       "      <th>u1</th>\n",
       "      <td>1.069045</td>\n",
       "      <td>NaN</td>\n",
       "      <td>-0.707107</td>\n",
       "      <td>-1.521278</td>\n",
       "      <td>NaN</td>\n",
       "    </tr>\n",
       "    <tr>\n",
       "      <th>u2</th>\n",
       "      <td>NaN</td>\n",
       "      <td>-0.301511</td>\n",
       "      <td>NaN</td>\n",
       "      <td>-0.169031</td>\n",
       "      <td>NaN</td>\n",
       "    </tr>\n",
       "    <tr>\n",
       "      <th>u3</th>\n",
       "      <td>NaN</td>\n",
       "      <td>-1.507557</td>\n",
       "      <td>-0.707107</td>\n",
       "      <td>0.507093</td>\n",
       "      <td>-1.0</td>\n",
       "    </tr>\n",
       "    <tr>\n",
       "      <th>u4</th>\n",
       "      <td>0.267261</td>\n",
       "      <td>0.904534</td>\n",
       "      <td>1.414214</td>\n",
       "      <td>NaN</td>\n",
       "      <td>NaN</td>\n",
       "    </tr>\n",
       "    <tr>\n",
       "      <th>u5</th>\n",
       "      <td>-1.336306</td>\n",
       "      <td>0.904534</td>\n",
       "      <td>NaN</td>\n",
       "      <td>1.183216</td>\n",
       "      <td>1.0</td>\n",
       "    </tr>\n",
       "  </tbody>\n",
       "</table>\n",
       "</div>"
      ],
      "text/plain": [
       "item        i1        i2        i3        i4   i5\n",
       "user                                             \n",
       "u1    1.069045       NaN -0.707107 -1.521278  NaN\n",
       "u2         NaN -0.301511       NaN -0.169031  NaN\n",
       "u3         NaN -1.507557 -0.707107  0.507093 -1.0\n",
       "u4    0.267261  0.904534  1.414214       NaN  NaN\n",
       "u5   -1.336306  0.904534       NaN  1.183216  1.0"
      ]
     },
     "execution_count": 64,
     "metadata": {},
     "output_type": "execute_result"
    }
   ],
   "source": [
    "df_pivot_normalized = pd.DataFrame(normalized_ratings, columns=df_pivot.columns, index=df_pivot.index)\n",
    "\n",
    "df_pivot_normalized"
   ]
  },
  {
   "cell_type": "code",
   "execution_count": 65,
   "metadata": {},
   "outputs": [
    {
     "data": {
      "text/html": [
       "<div>\n",
       "<style scoped>\n",
       "    .dataframe tbody tr th:only-of-type {\n",
       "        vertical-align: middle;\n",
       "    }\n",
       "\n",
       "    .dataframe tbody tr th {\n",
       "        vertical-align: top;\n",
       "    }\n",
       "\n",
       "    .dataframe thead th {\n",
       "        text-align: right;\n",
       "    }\n",
       "</style>\n",
       "<table border=\"1\" class=\"dataframe\">\n",
       "  <thead>\n",
       "    <tr style=\"text-align: right;\">\n",
       "      <th>item</th>\n",
       "      <th>i1</th>\n",
       "      <th>i2</th>\n",
       "      <th>i3</th>\n",
       "      <th>i4</th>\n",
       "      <th>i5</th>\n",
       "      <th>age</th>\n",
       "      <th>gender</th>\n",
       "    </tr>\n",
       "    <tr>\n",
       "      <th>user</th>\n",
       "      <th></th>\n",
       "      <th></th>\n",
       "      <th></th>\n",
       "      <th></th>\n",
       "      <th></th>\n",
       "      <th></th>\n",
       "      <th></th>\n",
       "    </tr>\n",
       "  </thead>\n",
       "  <tbody>\n",
       "    <tr>\n",
       "      <th>u1</th>\n",
       "      <td>1.069045</td>\n",
       "      <td>NaN</td>\n",
       "      <td>-0.707107</td>\n",
       "      <td>-1.521278</td>\n",
       "      <td>NaN</td>\n",
       "      <td>-1.164478</td>\n",
       "      <td>0</td>\n",
       "    </tr>\n",
       "    <tr>\n",
       "      <th>u2</th>\n",
       "      <td>NaN</td>\n",
       "      <td>-0.301511</td>\n",
       "      <td>NaN</td>\n",
       "      <td>-0.169031</td>\n",
       "      <td>NaN</td>\n",
       "      <td>-0.960184</td>\n",
       "      <td>1</td>\n",
       "    </tr>\n",
       "    <tr>\n",
       "      <th>u3</th>\n",
       "      <td>NaN</td>\n",
       "      <td>-1.507557</td>\n",
       "      <td>-0.707107</td>\n",
       "      <td>0.507093</td>\n",
       "      <td>-1.0</td>\n",
       "      <td>-0.143006</td>\n",
       "      <td>0</td>\n",
       "    </tr>\n",
       "    <tr>\n",
       "      <th>u4</th>\n",
       "      <td>0.267261</td>\n",
       "      <td>0.904534</td>\n",
       "      <td>1.414214</td>\n",
       "      <td>NaN</td>\n",
       "      <td>NaN</td>\n",
       "      <td>1.389202</td>\n",
       "      <td>1</td>\n",
       "    </tr>\n",
       "    <tr>\n",
       "      <th>u5</th>\n",
       "      <td>-1.336306</td>\n",
       "      <td>0.904534</td>\n",
       "      <td>NaN</td>\n",
       "      <td>1.183216</td>\n",
       "      <td>1.0</td>\n",
       "      <td>0.878466</td>\n",
       "      <td>0</td>\n",
       "    </tr>\n",
       "  </tbody>\n",
       "</table>\n",
       "</div>"
      ],
      "text/plain": [
       "item        i1        i2        i3        i4   i5       age  gender\n",
       "user                                                               \n",
       "u1    1.069045       NaN -0.707107 -1.521278  NaN -1.164478       0\n",
       "u2         NaN -0.301511       NaN -0.169031  NaN -0.960184       1\n",
       "u3         NaN -1.507557 -0.707107  0.507093 -1.0 -0.143006       0\n",
       "u4    0.267261  0.904534  1.414214       NaN  NaN  1.389202       1\n",
       "u5   -1.336306  0.904534       NaN  1.183216  1.0  0.878466       0"
      ]
     },
     "execution_count": 65,
     "metadata": {},
     "output_type": "execute_result"
    }
   ],
   "source": [
    "df_pivot_normalized[\"age\"] = ages_normalized\n",
    "df_pivot_normalized[\"gender\"] = user_df[\"gender\"].values\n",
    "\n",
    "df_pivot_normalized"
   ]
  },
  {
   "cell_type": "code",
   "execution_count": 66,
   "metadata": {},
   "outputs": [
    {
     "data": {
      "text/html": [
       "<div>\n",
       "<style scoped>\n",
       "    .dataframe tbody tr th:only-of-type {\n",
       "        vertical-align: middle;\n",
       "    }\n",
       "\n",
       "    .dataframe tbody tr th {\n",
       "        vertical-align: top;\n",
       "    }\n",
       "\n",
       "    .dataframe thead th {\n",
       "        text-align: right;\n",
       "    }\n",
       "</style>\n",
       "<table border=\"1\" class=\"dataframe\">\n",
       "  <thead>\n",
       "    <tr style=\"text-align: right;\">\n",
       "      <th>item</th>\n",
       "      <th>i1</th>\n",
       "      <th>i2</th>\n",
       "      <th>i3</th>\n",
       "      <th>i4</th>\n",
       "      <th>i5</th>\n",
       "      <th>age</th>\n",
       "      <th>gender</th>\n",
       "    </tr>\n",
       "    <tr>\n",
       "      <th>user</th>\n",
       "      <th></th>\n",
       "      <th></th>\n",
       "      <th></th>\n",
       "      <th></th>\n",
       "      <th></th>\n",
       "      <th></th>\n",
       "      <th></th>\n",
       "    </tr>\n",
       "  </thead>\n",
       "  <tbody>\n",
       "    <tr>\n",
       "      <th>u1</th>\n",
       "      <td>1.069045</td>\n",
       "      <td>0.000000</td>\n",
       "      <td>-0.707107</td>\n",
       "      <td>-1.521278</td>\n",
       "      <td>0.0</td>\n",
       "      <td>-1.164478</td>\n",
       "      <td>0</td>\n",
       "    </tr>\n",
       "    <tr>\n",
       "      <th>u2</th>\n",
       "      <td>0.000000</td>\n",
       "      <td>-0.301511</td>\n",
       "      <td>0.000000</td>\n",
       "      <td>-0.169031</td>\n",
       "      <td>0.0</td>\n",
       "      <td>-0.960184</td>\n",
       "      <td>1</td>\n",
       "    </tr>\n",
       "    <tr>\n",
       "      <th>u3</th>\n",
       "      <td>0.000000</td>\n",
       "      <td>-1.507557</td>\n",
       "      <td>-0.707107</td>\n",
       "      <td>0.507093</td>\n",
       "      <td>-1.0</td>\n",
       "      <td>-0.143006</td>\n",
       "      <td>0</td>\n",
       "    </tr>\n",
       "    <tr>\n",
       "      <th>u4</th>\n",
       "      <td>0.267261</td>\n",
       "      <td>0.904534</td>\n",
       "      <td>1.414214</td>\n",
       "      <td>0.000000</td>\n",
       "      <td>0.0</td>\n",
       "      <td>1.389202</td>\n",
       "      <td>1</td>\n",
       "    </tr>\n",
       "    <tr>\n",
       "      <th>u5</th>\n",
       "      <td>-1.336306</td>\n",
       "      <td>0.904534</td>\n",
       "      <td>0.000000</td>\n",
       "      <td>1.183216</td>\n",
       "      <td>1.0</td>\n",
       "      <td>0.878466</td>\n",
       "      <td>0</td>\n",
       "    </tr>\n",
       "  </tbody>\n",
       "</table>\n",
       "</div>"
      ],
      "text/plain": [
       "item        i1        i2        i3        i4   i5       age  gender\n",
       "user                                                               \n",
       "u1    1.069045  0.000000 -0.707107 -1.521278  0.0 -1.164478       0\n",
       "u2    0.000000 -0.301511  0.000000 -0.169031  0.0 -0.960184       1\n",
       "u3    0.000000 -1.507557 -0.707107  0.507093 -1.0 -0.143006       0\n",
       "u4    0.267261  0.904534  1.414214  0.000000  0.0  1.389202       1\n",
       "u5   -1.336306  0.904534  0.000000  1.183216  1.0  0.878466       0"
      ]
     },
     "execution_count": 66,
     "metadata": {},
     "output_type": "execute_result"
    }
   ],
   "source": [
    "df_pivot_normalized.fillna(0, inplace=True)\n",
    "\n",
    "df_pivot_normalized"
   ]
  },
  {
   "cell_type": "code",
   "execution_count": 67,
   "metadata": {},
   "outputs": [
    {
     "data": {
      "text/plain": [
       "array([[ 1.        ,  0.41758017, -0.02261304, -0.41937875, -0.76748555],\n",
       "       [ 0.41758017,  1.        ,  0.17601966, -0.17599665, -0.3833197 ],\n",
       "       [-0.02261304,  0.17601966,  1.        , -0.52776769, -0.39061512],\n",
       "       [-0.41937875, -0.17599665, -0.52776769,  1.        ,  0.2900224 ],\n",
       "       [-0.76748555, -0.3833197 , -0.39061512,  0.2900224 ,  1.        ]])"
      ]
     },
     "execution_count": 67,
     "metadata": {},
     "output_type": "execute_result"
    }
   ],
   "source": [
    "cosine_sim = cosine_similarity(df_pivot_normalized)\n",
    "\n",
    "cosine_sim"
   ]
  },
  {
   "cell_type": "code",
   "execution_count": 68,
   "metadata": {},
   "outputs": [
    {
     "data": {
      "text/html": [
       "<div>\n",
       "<style scoped>\n",
       "    .dataframe tbody tr th:only-of-type {\n",
       "        vertical-align: middle;\n",
       "    }\n",
       "\n",
       "    .dataframe tbody tr th {\n",
       "        vertical-align: top;\n",
       "    }\n",
       "\n",
       "    .dataframe thead th {\n",
       "        text-align: right;\n",
       "    }\n",
       "</style>\n",
       "<table border=\"1\" class=\"dataframe\">\n",
       "  <thead>\n",
       "    <tr style=\"text-align: right;\">\n",
       "      <th>user</th>\n",
       "      <th>u1</th>\n",
       "      <th>u2</th>\n",
       "      <th>u3</th>\n",
       "      <th>u4</th>\n",
       "      <th>u5</th>\n",
       "    </tr>\n",
       "    <tr>\n",
       "      <th>user</th>\n",
       "      <th></th>\n",
       "      <th></th>\n",
       "      <th></th>\n",
       "      <th></th>\n",
       "      <th></th>\n",
       "    </tr>\n",
       "  </thead>\n",
       "  <tbody>\n",
       "    <tr>\n",
       "      <th>u1</th>\n",
       "      <td>1.000000</td>\n",
       "      <td>0.417580</td>\n",
       "      <td>-0.022613</td>\n",
       "      <td>-0.419379</td>\n",
       "      <td>-0.767486</td>\n",
       "    </tr>\n",
       "    <tr>\n",
       "      <th>u2</th>\n",
       "      <td>0.417580</td>\n",
       "      <td>1.000000</td>\n",
       "      <td>0.176020</td>\n",
       "      <td>-0.175997</td>\n",
       "      <td>-0.383320</td>\n",
       "    </tr>\n",
       "    <tr>\n",
       "      <th>u3</th>\n",
       "      <td>-0.022613</td>\n",
       "      <td>0.176020</td>\n",
       "      <td>1.000000</td>\n",
       "      <td>-0.527768</td>\n",
       "      <td>-0.390615</td>\n",
       "    </tr>\n",
       "    <tr>\n",
       "      <th>u4</th>\n",
       "      <td>-0.419379</td>\n",
       "      <td>-0.175997</td>\n",
       "      <td>-0.527768</td>\n",
       "      <td>1.000000</td>\n",
       "      <td>0.290022</td>\n",
       "    </tr>\n",
       "    <tr>\n",
       "      <th>u5</th>\n",
       "      <td>-0.767486</td>\n",
       "      <td>-0.383320</td>\n",
       "      <td>-0.390615</td>\n",
       "      <td>0.290022</td>\n",
       "      <td>1.000000</td>\n",
       "    </tr>\n",
       "  </tbody>\n",
       "</table>\n",
       "</div>"
      ],
      "text/plain": [
       "user        u1        u2        u3        u4        u5\n",
       "user                                                  \n",
       "u1    1.000000  0.417580 -0.022613 -0.419379 -0.767486\n",
       "u2    0.417580  1.000000  0.176020 -0.175997 -0.383320\n",
       "u3   -0.022613  0.176020  1.000000 -0.527768 -0.390615\n",
       "u4   -0.419379 -0.175997 -0.527768  1.000000  0.290022\n",
       "u5   -0.767486 -0.383320 -0.390615  0.290022  1.000000"
      ]
     },
     "execution_count": 68,
     "metadata": {},
     "output_type": "execute_result"
    }
   ],
   "source": [
    "cosine_sim_df = pd.DataFrame(cosine_sim, columns=df_pivot_normalized.index, index=df_pivot_normalized.index)\n",
    "\n",
    "cosine_sim_df"
   ]
  },
  {
   "cell_type": "code",
   "execution_count": 69,
   "metadata": {},
   "outputs": [
    {
     "data": {
      "text/html": [
       "<div>\n",
       "<style scoped>\n",
       "    .dataframe tbody tr th:only-of-type {\n",
       "        vertical-align: middle;\n",
       "    }\n",
       "\n",
       "    .dataframe tbody tr th {\n",
       "        vertical-align: top;\n",
       "    }\n",
       "\n",
       "    .dataframe thead th {\n",
       "        text-align: right;\n",
       "    }\n",
       "</style>\n",
       "<table border=\"1\" class=\"dataframe\">\n",
       "  <thead>\n",
       "    <tr style=\"text-align: right;\">\n",
       "      <th>item</th>\n",
       "      <th>user</th>\n",
       "      <th>i1</th>\n",
       "      <th>i2</th>\n",
       "      <th>i3</th>\n",
       "      <th>i4</th>\n",
       "      <th>i5</th>\n",
       "      <th>age</th>\n",
       "      <th>gender</th>\n",
       "    </tr>\n",
       "  </thead>\n",
       "  <tbody>\n",
       "    <tr>\n",
       "      <th>0</th>\n",
       "      <td>u1</td>\n",
       "      <td>1.069045</td>\n",
       "      <td>0.000000</td>\n",
       "      <td>-0.707107</td>\n",
       "      <td>-1.521278</td>\n",
       "      <td>0.0</td>\n",
       "      <td>-1.164478</td>\n",
       "      <td>0</td>\n",
       "    </tr>\n",
       "    <tr>\n",
       "      <th>1</th>\n",
       "      <td>u2</td>\n",
       "      <td>0.000000</td>\n",
       "      <td>-0.301511</td>\n",
       "      <td>0.000000</td>\n",
       "      <td>-0.169031</td>\n",
       "      <td>0.0</td>\n",
       "      <td>-0.960184</td>\n",
       "      <td>1</td>\n",
       "    </tr>\n",
       "    <tr>\n",
       "      <th>2</th>\n",
       "      <td>u3</td>\n",
       "      <td>0.000000</td>\n",
       "      <td>-1.507557</td>\n",
       "      <td>-0.707107</td>\n",
       "      <td>0.507093</td>\n",
       "      <td>-1.0</td>\n",
       "      <td>-0.143006</td>\n",
       "      <td>0</td>\n",
       "    </tr>\n",
       "    <tr>\n",
       "      <th>3</th>\n",
       "      <td>u4</td>\n",
       "      <td>0.267261</td>\n",
       "      <td>0.904534</td>\n",
       "      <td>1.414214</td>\n",
       "      <td>0.000000</td>\n",
       "      <td>0.0</td>\n",
       "      <td>1.389202</td>\n",
       "      <td>1</td>\n",
       "    </tr>\n",
       "    <tr>\n",
       "      <th>4</th>\n",
       "      <td>u5</td>\n",
       "      <td>-1.336306</td>\n",
       "      <td>0.904534</td>\n",
       "      <td>0.000000</td>\n",
       "      <td>1.183216</td>\n",
       "      <td>1.0</td>\n",
       "      <td>0.878466</td>\n",
       "      <td>0</td>\n",
       "    </tr>\n",
       "  </tbody>\n",
       "</table>\n",
       "</div>"
      ],
      "text/plain": [
       "item user        i1        i2        i3        i4   i5       age  gender\n",
       "0      u1  1.069045  0.000000 -0.707107 -1.521278  0.0 -1.164478       0\n",
       "1      u2  0.000000 -0.301511  0.000000 -0.169031  0.0 -0.960184       1\n",
       "2      u3  0.000000 -1.507557 -0.707107  0.507093 -1.0 -0.143006       0\n",
       "3      u4  0.267261  0.904534  1.414214  0.000000  0.0  1.389202       1\n",
       "4      u5 -1.336306  0.904534  0.000000  1.183216  1.0  0.878466       0"
      ]
     },
     "execution_count": 69,
     "metadata": {},
     "output_type": "execute_result"
    }
   ],
   "source": [
    "df_pivot_normalized.reset_index(inplace=True)\n",
    "\n",
    "df_pivot_normalized"
   ]
  },
  {
   "cell_type": "code",
   "execution_count": 70,
   "metadata": {},
   "outputs": [
    {
     "data": {
      "text/plain": [
       "Index([2], dtype='int64')"
      ]
     },
     "execution_count": 70,
     "metadata": {},
     "output_type": "execute_result"
    }
   ],
   "source": [
    "idx = df_pivot_normalized[df_pivot_normalized[\"user\"] == \"u3\"].index\n",
    "\n",
    "idx"
   ]
  },
  {
   "cell_type": "code",
   "execution_count": 71,
   "metadata": {},
   "outputs": [
    {
     "data": {
      "text/plain": [
       "array([-0.02261304,  0.17601966,  1.        , -0.52776769, -0.39061512])"
      ]
     },
     "execution_count": 71,
     "metadata": {},
     "output_type": "execute_result"
    }
   ],
   "source": [
    "sim_scores = cosine_sim[idx].flatten()\n",
    "\n",
    "sim_scores\n"
   ]
  },
  {
   "cell_type": "code",
   "execution_count": 72,
   "metadata": {},
   "outputs": [
    {
     "data": {
      "text/plain": [
       "[(1, 0.1760196596196068), (0, -0.02261303539223646)]"
      ]
     },
     "execution_count": 72,
     "metadata": {},
     "output_type": "execute_result"
    }
   ],
   "source": [
    "sim_scores = sorted(list(enumerate(sim_scores)), key=lambda x: x[1], reverse=True)[1:3]\n",
    "\n",
    "sim_scores"
   ]
  },
  {
   "cell_type": "code",
   "execution_count": 73,
   "metadata": {},
   "outputs": [
    {
     "data": {
      "text/plain": [
       "[1, 0]"
      ]
     },
     "execution_count": 73,
     "metadata": {},
     "output_type": "execute_result"
    }
   ],
   "source": [
    "indices = [i[0] for i in sim_scores]\n",
    "\n",
    "indices"
   ]
  },
  {
   "cell_type": "code",
   "execution_count": 74,
   "metadata": {},
   "outputs": [
    {
     "data": {
      "text/html": [
       "<div>\n",
       "<style scoped>\n",
       "    .dataframe tbody tr th:only-of-type {\n",
       "        vertical-align: middle;\n",
       "    }\n",
       "\n",
       "    .dataframe tbody tr th {\n",
       "        vertical-align: top;\n",
       "    }\n",
       "\n",
       "    .dataframe thead th {\n",
       "        text-align: right;\n",
       "    }\n",
       "</style>\n",
       "<table border=\"1\" class=\"dataframe\">\n",
       "  <thead>\n",
       "    <tr style=\"text-align: right;\">\n",
       "      <th>item</th>\n",
       "      <th>user</th>\n",
       "      <th>i1</th>\n",
       "      <th>i2</th>\n",
       "      <th>i3</th>\n",
       "      <th>i4</th>\n",
       "      <th>i5</th>\n",
       "      <th>age</th>\n",
       "      <th>gender</th>\n",
       "    </tr>\n",
       "  </thead>\n",
       "  <tbody>\n",
       "    <tr>\n",
       "      <th>1</th>\n",
       "      <td>u2</td>\n",
       "      <td>0.000000</td>\n",
       "      <td>-0.301511</td>\n",
       "      <td>0.000000</td>\n",
       "      <td>-0.169031</td>\n",
       "      <td>0.0</td>\n",
       "      <td>-0.960184</td>\n",
       "      <td>1</td>\n",
       "    </tr>\n",
       "    <tr>\n",
       "      <th>0</th>\n",
       "      <td>u1</td>\n",
       "      <td>1.069045</td>\n",
       "      <td>0.000000</td>\n",
       "      <td>-0.707107</td>\n",
       "      <td>-1.521278</td>\n",
       "      <td>0.0</td>\n",
       "      <td>-1.164478</td>\n",
       "      <td>0</td>\n",
       "    </tr>\n",
       "  </tbody>\n",
       "</table>\n",
       "</div>"
      ],
      "text/plain": [
       "item user        i1        i2        i3        i4   i5       age  gender\n",
       "1      u2  0.000000 -0.301511  0.000000 -0.169031  0.0 -0.960184       1\n",
       "0      u1  1.069045  0.000000 -0.707107 -1.521278  0.0 -1.164478       0"
      ]
     },
     "execution_count": 74,
     "metadata": {},
     "output_type": "execute_result"
    }
   ],
   "source": [
    "df_pivot_normalized.iloc[indices]"
   ]
  },
  {
   "cell_type": "markdown",
   "metadata": {},
   "source": [
    "### The same example using `surprize` library"
   ]
  },
  {
   "cell_type": "code",
   "execution_count": 75,
   "metadata": {},
   "outputs": [],
   "source": [
    "from surprise import Dataset\n",
    "from surprise import Reader\n",
    "from surprise import KNNBasic"
   ]
  },
  {
   "cell_type": "code",
   "execution_count": 76,
   "metadata": {},
   "outputs": [
    {
     "data": {
      "text/plain": [
       "[('u1', 'i1', 5.0, None),\n",
       " ('u1', 'i3', 4.0, None),\n",
       " ('u1', 'i4', 1.0, None),\n",
       " ('u2', 'i2', 3.0, None),\n",
       " ('u2', 'i4', 3.0, None),\n",
       " ('u3', 'i2', 2.0, None),\n",
       " ('u3', 'i3', 4.0, None),\n",
       " ('u3', 'i4', 4.0, None),\n",
       " ('u3', 'i5', 1.0, None),\n",
       " ('u4', 'i1', 4.0, None),\n",
       " ('u4', 'i2', 4.0, None),\n",
       " ('u4', 'i3', 5.0, None),\n",
       " ('u5', 'i1', 2.0, None),\n",
       " ('u5', 'i2', 4.0, None),\n",
       " ('u5', 'i4', 5.0, None),\n",
       " ('u5', 'i5', 2.0, None)]"
      ]
     },
     "execution_count": 76,
     "metadata": {},
     "output_type": "execute_result"
    }
   ],
   "source": [
    "reader = Reader(rating_scale=(1, 5))\n",
    "\n",
    "data = Dataset.load_from_df(df[[\"user\", \"item\", \"rating\"]], reader)\n",
    "\n",
    "data.raw_ratings"
   ]
  },
  {
   "cell_type": "code",
   "execution_count": 77,
   "metadata": {},
   "outputs": [],
   "source": [
    "sim_options = {\n",
    "    \"name\": \"cosine\",\n",
    "    \"user_based\": False,\n",
    "}\n",
    "algo = KNNBasic(sim_options=sim_options)"
   ]
  },
  {
   "cell_type": "code",
   "execution_count": 78,
   "metadata": {},
   "outputs": [],
   "source": [
    "train_set = data.build_full_trainset()"
   ]
  },
  {
   "cell_type": "code",
   "execution_count": 79,
   "metadata": {},
   "outputs": [
    {
     "name": "stdout",
     "output_type": "stream",
     "text": [
      "Computing the cosine similarity matrix...\n",
      "Done computing similarity matrix.\n"
     ]
    },
    {
     "data": {
      "text/plain": [
       "<surprise.prediction_algorithms.knns.KNNBasic at 0x31b787690>"
      ]
     },
     "execution_count": 79,
     "metadata": {},
     "output_type": "execute_result"
    }
   ],
   "source": [
    "algo.fit(train_set)"
   ]
  },
  {
   "cell_type": "code",
   "execution_count": 80,
   "metadata": {},
   "outputs": [
    {
     "data": {
      "text/plain": [
       "Prediction(uid='u1', iid='i1', r_ui=None, est=3.7466953361697586, details={'actual_k': 3, 'was_impossible': False})"
      ]
     },
     "execution_count": 80,
     "metadata": {},
     "output_type": "execute_result"
    }
   ],
   "source": [
    "prediction = algo.predict(\"u1\", \"i1\")\n",
    "\n",
    "prediction"
   ]
  },
  {
   "cell_type": "code",
   "execution_count": null,
   "metadata": {},
   "outputs": [],
   "source": []
  }
 ],
 "metadata": {
  "kernelspec": {
   "display_name": ".venv",
   "language": "python",
   "name": "python3"
  },
  "language_info": {
   "codemirror_mode": {
    "name": "ipython",
    "version": 3
   },
   "file_extension": ".py",
   "mimetype": "text/x-python",
   "name": "python",
   "nbconvert_exporter": "python",
   "pygments_lexer": "ipython3",
   "version": "3.11.2"
  }
 },
 "nbformat": 4,
 "nbformat_minor": 2
}
