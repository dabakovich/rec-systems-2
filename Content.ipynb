{
 "cells": [
  {
   "cell_type": "markdown",
   "id": "f99f95df-31ab-4419-b728-7e78fa847eee",
   "metadata": {},
   "source": [
    "Приклад рекомендаційної системи на основі контента\n",
    "===\n",
    "Імпортуємо необхідні бібліотеки\n",
    "---"
   ]
  },
  {
   "cell_type": "code",
   "execution_count": 1,
   "id": "fa9d7f29-6a51-4973-b351-d0b96e9a947f",
   "metadata": {},
   "outputs": [],
   "source": [
    "import pandas as pd\n",
    "from sklearn.feature_extraction.text import TfidfVectorizer\n",
    "from sklearn.metrics.pairwise import cosine_similarity"
   ]
  },
  {
   "cell_type": "markdown",
   "id": "f34580cb-6309-4bc3-9d96-d1dc69efbb17",
   "metadata": {},
   "source": [
    "Зчитуємо дані - книги\n",
    "--"
   ]
  },
  {
   "cell_type": "code",
   "execution_count": 2,
   "id": "c00e54f7-ad03-4b45-81d5-a7b8aaa0d1ed",
   "metadata": {},
   "outputs": [],
   "source": [
    "df = pd.read_csv('datasets/book-crossing/Books.csv',\n",
    "                on_bad_lines='skip',\n",
    "                 sep=';'\n",
    "                )"
   ]
  },
  {
   "cell_type": "code",
   "execution_count": 3,
   "id": "9939b442-83fd-4432-82d7-864d3198edfe",
   "metadata": {},
   "outputs": [
    {
     "data": {
      "text/html": [
       "<div>\n",
       "<style scoped>\n",
       "    .dataframe tbody tr th:only-of-type {\n",
       "        vertical-align: middle;\n",
       "    }\n",
       "\n",
       "    .dataframe tbody tr th {\n",
       "        vertical-align: top;\n",
       "    }\n",
       "\n",
       "    .dataframe thead th {\n",
       "        text-align: right;\n",
       "    }\n",
       "</style>\n",
       "<table border=\"1\" class=\"dataframe\">\n",
       "  <thead>\n",
       "    <tr style=\"text-align: right;\">\n",
       "      <th></th>\n",
       "      <th>ISBN</th>\n",
       "      <th>Title</th>\n",
       "      <th>Author</th>\n",
       "      <th>Year</th>\n",
       "      <th>Publisher</th>\n",
       "    </tr>\n",
       "  </thead>\n",
       "  <tbody>\n",
       "    <tr>\n",
       "      <th>0</th>\n",
       "      <td>0195153448</td>\n",
       "      <td>Classical Mythology</td>\n",
       "      <td>Mark P. O. Morford</td>\n",
       "      <td>2002</td>\n",
       "      <td>Oxford University Press</td>\n",
       "    </tr>\n",
       "    <tr>\n",
       "      <th>1</th>\n",
       "      <td>0002005018</td>\n",
       "      <td>Clara Callan</td>\n",
       "      <td>Richard Bruce Wright</td>\n",
       "      <td>2001</td>\n",
       "      <td>HarperFlamingo Canada</td>\n",
       "    </tr>\n",
       "    <tr>\n",
       "      <th>2</th>\n",
       "      <td>0060973129</td>\n",
       "      <td>Decision in Normandy</td>\n",
       "      <td>Carlo D'Este</td>\n",
       "      <td>1991</td>\n",
       "      <td>HarperPerennial</td>\n",
       "    </tr>\n",
       "    <tr>\n",
       "      <th>3</th>\n",
       "      <td>0374157065</td>\n",
       "      <td>Flu: The Story of the Great Influenza Pandemic...</td>\n",
       "      <td>Gina Bari Kolata</td>\n",
       "      <td>1999</td>\n",
       "      <td>Farrar Straus Giroux</td>\n",
       "    </tr>\n",
       "    <tr>\n",
       "      <th>4</th>\n",
       "      <td>0393045218</td>\n",
       "      <td>The Mummies of Urumchi</td>\n",
       "      <td>E. J. W. Barber</td>\n",
       "      <td>1999</td>\n",
       "      <td>W. W. Norton &amp; Company</td>\n",
       "    </tr>\n",
       "  </tbody>\n",
       "</table>\n",
       "</div>"
      ],
      "text/plain": [
       "         ISBN                                              Title  \\\n",
       "0  0195153448                                Classical Mythology   \n",
       "1  0002005018                                       Clara Callan   \n",
       "2  0060973129                               Decision in Normandy   \n",
       "3  0374157065  Flu: The Story of the Great Influenza Pandemic...   \n",
       "4  0393045218                             The Mummies of Urumchi   \n",
       "\n",
       "                 Author  Year                Publisher  \n",
       "0    Mark P. O. Morford  2002  Oxford University Press  \n",
       "1  Richard Bruce Wright  2001    HarperFlamingo Canada  \n",
       "2          Carlo D'Este  1991          HarperPerennial  \n",
       "3      Gina Bari Kolata  1999     Farrar Straus Giroux  \n",
       "4       E. J. W. Barber  1999   W. W. Norton & Company  "
      ]
     },
     "execution_count": 3,
     "metadata": {},
     "output_type": "execute_result"
    }
   ],
   "source": [
    "df.head()"
   ]
  },
  {
   "cell_type": "markdown",
   "id": "0fef42d6-0bf7-4d47-bf9d-8455b7d4bbba",
   "metadata": {},
   "source": [
    "Завантажуємо дані з користувачами та рейтингами \n"
   ]
  },
  {
   "cell_type": "code",
   "execution_count": 4,
   "id": "237a61d2-d36b-4075-b5f1-965dc2d1f724",
   "metadata": {},
   "outputs": [],
   "source": [
    "user_ratings = pd.read_csv('datasets/book-crossing/users-ratings.csv')"
   ]
  },
  {
   "cell_type": "markdown",
   "id": "92452493-074b-4a07-9a3c-b6673ec0a3c2",
   "metadata": {},
   "source": [
    "Відфільтруємо дані - працюємо тільки з підмножиною книг, які були прочитані хочаб одним користувачем"
   ]
  },
  {
   "cell_type": "code",
   "execution_count": 5,
   "id": "ded50558-e9a6-478e-8663-54ac18bb4922",
   "metadata": {},
   "outputs": [],
   "source": [
    "df = df[df['ISBN'].isin(user_ratings['ISBN'])]"
   ]
  },
  {
   "cell_type": "markdown",
   "id": "bad3b5cb-f250-448e-a7a8-bc97aaf8dc58",
   "metadata": {},
   "source": [
    "* Заповнимо порожні значення\n",
    "* Зтворимо нову змінну text, яка є поєднанням автору та назви"
   ]
  },
  {
   "cell_type": "code",
   "execution_count": 6,
   "id": "c29d8203-f5e2-4ac4-9a6c-1028198ebc49",
   "metadata": {},
   "outputs": [],
   "source": [
    "df.dropna(subset=['Title','Author'],inplace=True)\n",
    "df.drop_duplicates(subset=['Title','Author'], inplace=True)\n",
    "df['Title'] = df['Title'].apply(lambda s: s.lower())\n",
    "df['Author'] = df['Author'].apply(lambda s: s.lower())\n",
    "df['text'] = df['Title'].fillna('') + ' ' + df['Author'].fillna('')"
   ]
  },
  {
   "cell_type": "markdown",
   "id": "34e3021b-0e09-4953-8fee-35b75d70e942",
   "metadata": {},
   "source": [
    "* Заберемо дублікати за автором та назвою\n",
    "* Приберемо порожні значення"
   ]
  },
  {
   "cell_type": "markdown",
   "id": "9abcdbb7-0fbe-408a-9340-f5fa12d4d816",
   "metadata": {},
   "source": [
    "Оскільки наступний код спирається на індекси книг у датафрейми, зробимо reset. "
   ]
  },
  {
   "cell_type": "code",
   "execution_count": 8,
   "id": "593de027-a6f5-4aee-98b6-a416cbd5fd5d",
   "metadata": {},
   "outputs": [],
   "source": [
    "df.reset_index(drop=True, inplace=True)"
   ]
  },
  {
   "cell_type": "markdown",
   "id": "dd95d898-d2e6-4eda-8803-13e974701cd8",
   "metadata": {},
   "source": [
    "Застосовуємо tfidf для трансформації текста в матрицю"
   ]
  },
  {
   "cell_type": "code",
   "execution_count": 9,
   "id": "b117b03c-ce8b-4a9e-b651-53e067389bad",
   "metadata": {},
   "outputs": [],
   "source": [
    "tfidf = TfidfVectorizer(stop_words='english')\n",
    "tfidf_matrix = tfidf.fit_transform(df['text'])"
   ]
  },
  {
   "cell_type": "markdown",
   "id": "6b41f738-6212-45c6-ae40-6d0b2c0db910",
   "metadata": {},
   "source": [
    "Рахуємо косинуси між векторами"
   ]
  },
  {
   "cell_type": "code",
   "execution_count": 10,
   "id": "3bc27053-bd9a-4616-a39e-31fe561776b6",
   "metadata": {},
   "outputs": [],
   "source": [
    "cosine_sim = cosine_similarity(tfidf_matrix)"
   ]
  },
  {
   "cell_type": "code",
   "execution_count": 11,
   "id": "c819f6d7-1d36-4527-8c2b-80f965ef0ef1",
   "metadata": {},
   "outputs": [
    {
     "data": {
      "text/plain": [
       "(1772, 1772)"
      ]
     },
     "execution_count": 11,
     "metadata": {},
     "output_type": "execute_result"
    }
   ],
   "source": [
    "cosine_sim.shape"
   ]
  },
  {
   "cell_type": "markdown",
   "id": "698e402b-7d8d-4db7-8191-3b5d32976031",
   "metadata": {},
   "source": [
    "Знайдемо подібні книги до заданої."
   ]
  },
  {
   "cell_type": "code",
   "execution_count": 19,
   "id": "7b3fe199-d8c0-4b0a-9e07-7c4c173e8be5",
   "metadata": {},
   "outputs": [],
   "source": [
    "def get_recommendations(isbn, cosine_sim=cosine_sim, top_n = 10):\n",
    "\n",
    "    idx = df[df['ISBN']==isbn].index\n",
    "\n",
    "    sim_scores = cosine_sim[idx][0]\n",
    "\n",
    "    sim_scores = sorted(list(enumerate(sim_scores)), key=lambda x: x[1], reverse=True)\n",
    "\n",
    "    sim_scores = sim_scores[1:top_n + 1] \n",
    "\n",
    "    book_indices = [i[0] for i in sim_scores]\n",
    "\n",
    "    return df.iloc[book_indices]"
   ]
  },
  {
   "cell_type": "code",
   "execution_count": 20,
   "id": "909d920a-366d-42ea-8dc6-d0964c6d525a",
   "metadata": {},
   "outputs": [
    {
     "data": {
      "text/html": [
       "<div>\n",
       "<style scoped>\n",
       "    .dataframe tbody tr th:only-of-type {\n",
       "        vertical-align: middle;\n",
       "    }\n",
       "\n",
       "    .dataframe tbody tr th {\n",
       "        vertical-align: top;\n",
       "    }\n",
       "\n",
       "    .dataframe thead th {\n",
       "        text-align: right;\n",
       "    }\n",
       "</style>\n",
       "<table border=\"1\" class=\"dataframe\">\n",
       "  <thead>\n",
       "    <tr style=\"text-align: right;\">\n",
       "      <th></th>\n",
       "      <th>ISBN</th>\n",
       "      <th>Title</th>\n",
       "      <th>Author</th>\n",
       "      <th>Year</th>\n",
       "      <th>Publisher</th>\n",
       "      <th>text</th>\n",
       "    </tr>\n",
       "  </thead>\n",
       "  <tbody>\n",
       "    <tr>\n",
       "      <th>0</th>\n",
       "      <td>0440234743</td>\n",
       "      <td>the testament</td>\n",
       "      <td>john grisham</td>\n",
       "      <td>1999</td>\n",
       "      <td>Dell</td>\n",
       "      <td>the testament john grisham</td>\n",
       "    </tr>\n",
       "  </tbody>\n",
       "</table>\n",
       "</div>"
      ],
      "text/plain": [
       "         ISBN          Title        Author  Year Publisher  \\\n",
       "0  0440234743  the testament  john grisham  1999      Dell   \n",
       "\n",
       "                         text  \n",
       "0  the testament john grisham  "
      ]
     },
     "execution_count": 20,
     "metadata": {},
     "output_type": "execute_result"
    }
   ],
   "source": [
    "df[df['ISBN']=='0440234743']"
   ]
  },
  {
   "cell_type": "code",
   "execution_count": 21,
   "id": "18287db3-927f-4c02-bdbe-162e9a9730fa",
   "metadata": {},
   "outputs": [
    {
     "data": {
      "text/html": [
       "<div>\n",
       "<style scoped>\n",
       "    .dataframe tbody tr th:only-of-type {\n",
       "        vertical-align: middle;\n",
       "    }\n",
       "\n",
       "    .dataframe tbody tr th {\n",
       "        vertical-align: top;\n",
       "    }\n",
       "\n",
       "    .dataframe thead th {\n",
       "        text-align: right;\n",
       "    }\n",
       "</style>\n",
       "<table border=\"1\" class=\"dataframe\">\n",
       "  <thead>\n",
       "    <tr style=\"text-align: right;\">\n",
       "      <th></th>\n",
       "      <th>ISBN</th>\n",
       "      <th>Title</th>\n",
       "      <th>Author</th>\n",
       "      <th>Year</th>\n",
       "      <th>Publisher</th>\n",
       "      <th>text</th>\n",
       "    </tr>\n",
       "  </thead>\n",
       "  <tbody>\n",
       "    <tr>\n",
       "      <th>153</th>\n",
       "      <td>0385424728</td>\n",
       "      <td>the chamber</td>\n",
       "      <td>john grisham</td>\n",
       "      <td>1994</td>\n",
       "      <td>Doubleday Books</td>\n",
       "      <td>the chamber john grisham</td>\n",
       "    </tr>\n",
       "    <tr>\n",
       "      <th>154</th>\n",
       "      <td>0385472951</td>\n",
       "      <td>the partner</td>\n",
       "      <td>john grisham</td>\n",
       "      <td>1997</td>\n",
       "      <td>Doubleday Books</td>\n",
       "      <td>the partner john grisham</td>\n",
       "    </tr>\n",
       "    <tr>\n",
       "      <th>322</th>\n",
       "      <td>0385510438</td>\n",
       "      <td>the last juror</td>\n",
       "      <td>john grisham</td>\n",
       "      <td>2004</td>\n",
       "      <td>Doubleday</td>\n",
       "      <td>the last juror john grisham</td>\n",
       "    </tr>\n",
       "    <tr>\n",
       "      <th>61</th>\n",
       "      <td>0385497466</td>\n",
       "      <td>the brethren</td>\n",
       "      <td>john grisham</td>\n",
       "      <td>2000</td>\n",
       "      <td>Doubleday</td>\n",
       "      <td>the brethren john grisham</td>\n",
       "    </tr>\n",
       "    <tr>\n",
       "      <th>64</th>\n",
       "      <td>0385511612</td>\n",
       "      <td>bleachers</td>\n",
       "      <td>john grisham</td>\n",
       "      <td>2003</td>\n",
       "      <td>Doubleday</td>\n",
       "      <td>bleachers john grisham</td>\n",
       "    </tr>\n",
       "    <tr>\n",
       "      <th>99</th>\n",
       "      <td>038542471X</td>\n",
       "      <td>the client</td>\n",
       "      <td>john grisham</td>\n",
       "      <td>1993</td>\n",
       "      <td>Doubleday Books</td>\n",
       "      <td>the client john grisham</td>\n",
       "    </tr>\n",
       "    <tr>\n",
       "      <th>114</th>\n",
       "      <td>044021145X</td>\n",
       "      <td>the firm</td>\n",
       "      <td>john grisham</td>\n",
       "      <td>1992</td>\n",
       "      <td>Bantam Dell Publishing Group</td>\n",
       "      <td>the firm john grisham</td>\n",
       "    </tr>\n",
       "    <tr>\n",
       "      <th>228</th>\n",
       "      <td>044022165X</td>\n",
       "      <td>the rainmaker</td>\n",
       "      <td>john grisham</td>\n",
       "      <td>1996</td>\n",
       "      <td>Dell</td>\n",
       "      <td>the rainmaker john grisham</td>\n",
       "    </tr>\n",
       "    <tr>\n",
       "      <th>854</th>\n",
       "      <td>0440241073</td>\n",
       "      <td>the summons</td>\n",
       "      <td>john grisham</td>\n",
       "      <td>2002</td>\n",
       "      <td>Dell Publishing Company</td>\n",
       "      <td>the summons john grisham</td>\n",
       "    </tr>\n",
       "    <tr>\n",
       "      <th>62</th>\n",
       "      <td>0385508042</td>\n",
       "      <td>the king of torts</td>\n",
       "      <td>john grisham</td>\n",
       "      <td>2003</td>\n",
       "      <td>Doubleday Books</td>\n",
       "      <td>the king of torts john grisham</td>\n",
       "    </tr>\n",
       "  </tbody>\n",
       "</table>\n",
       "</div>"
      ],
      "text/plain": [
       "           ISBN              Title        Author  Year  \\\n",
       "153  0385424728        the chamber  john grisham  1994   \n",
       "154  0385472951        the partner  john grisham  1997   \n",
       "322  0385510438     the last juror  john grisham  2004   \n",
       "61   0385497466       the brethren  john grisham  2000   \n",
       "64   0385511612          bleachers  john grisham  2003   \n",
       "99   038542471X         the client  john grisham  1993   \n",
       "114  044021145X           the firm  john grisham  1992   \n",
       "228  044022165X      the rainmaker  john grisham  1996   \n",
       "854  0440241073        the summons  john grisham  2002   \n",
       "62   0385508042  the king of torts  john grisham  2003   \n",
       "\n",
       "                        Publisher                            text  \n",
       "153               Doubleday Books        the chamber john grisham  \n",
       "154               Doubleday Books        the partner john grisham  \n",
       "322                     Doubleday     the last juror john grisham  \n",
       "61                      Doubleday       the brethren john grisham  \n",
       "64                      Doubleday          bleachers john grisham  \n",
       "99                Doubleday Books         the client john grisham  \n",
       "114  Bantam Dell Publishing Group           the firm john grisham  \n",
       "228                          Dell      the rainmaker john grisham  \n",
       "854       Dell Publishing Company        the summons john grisham  \n",
       "62                Doubleday Books  the king of torts john grisham  "
      ]
     },
     "execution_count": 21,
     "metadata": {},
     "output_type": "execute_result"
    }
   ],
   "source": [
    "get_recommendations('0440234743')"
   ]
  },
  {
   "cell_type": "markdown",
   "id": "aaba658f-04d0-4f0a-979e-246d9a7e5066",
   "metadata": {},
   "source": [
    "Перепишемо фукцію, де тепер рекомендації будуть підбиратися для користувача. Враховуючу його уподобання, та прочитані книги."
   ]
  },
  {
   "cell_type": "code",
   "execution_count": null,
   "id": "661a38f1-70f9-48d0-b372-dd3a26a53573",
   "metadata": {},
   "outputs": [],
   "source": [
    "(user_ratings[(user_ratings['User-ID']==243)&(user_ratings['Rating']>8)]\n",
    ".join(df.set_index('ISBN'), on='ISBN'))"
   ]
  },
  {
   "cell_type": "code",
   "execution_count": null,
   "id": "7771e34c-ad08-4dff-8476-f4d0ff5c4f25",
   "metadata": {},
   "outputs": [],
   "source": []
  }
 ],
 "metadata": {
  "kernelspec": {
   "display_name": "recommenders-kernel",
   "language": "python",
   "name": "recommenders-kernel"
  },
  "language_info": {
   "codemirror_mode": {
    "name": "ipython",
    "version": 3
   },
   "file_extension": ".py",
   "mimetype": "text/x-python",
   "name": "python",
   "nbconvert_exporter": "python",
   "pygments_lexer": "ipython3",
   "version": "3.11.4"
  }
 },
 "nbformat": 4,
 "nbformat_minor": 5
}
